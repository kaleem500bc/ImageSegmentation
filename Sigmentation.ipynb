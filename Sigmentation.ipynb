{
  "nbformat": 4,
  "nbformat_minor": 0,
  "metadata": {
    "colab": {
      "name": "Sigmentation.ipynb",
      "provenance": [],
      "collapsed_sections": [],
      "authorship_tag": "ABX9TyMh0WmHVMYe6/5S42E8fEEs",
      "include_colab_link": true
    },
    "kernelspec": {
      "name": "python3",
      "display_name": "Python 3"
    },
    "accelerator": "GPU",
    "widgets": {
      "application/vnd.jupyter.widget-state+json": {
        "af1a79f093b04a67bed0400554302277": {
          "model_module": "@jupyter-widgets/controls",
          "model_name": "HBoxModel",
          "state": {
            "_view_name": "HBoxView",
            "_dom_classes": [],
            "_model_name": "HBoxModel",
            "_view_module": "@jupyter-widgets/controls",
            "_model_module_version": "1.5.0",
            "_view_count": null,
            "_view_module_version": "1.5.0",
            "box_style": "",
            "layout": "IPY_MODEL_2ca8f9b4982540b7a599c44bf910b717",
            "_model_module": "@jupyter-widgets/controls",
            "children": [
              "IPY_MODEL_148f41d3e9be448dbe18796e7e1b1fdf",
              "IPY_MODEL_19858f7bfc4e4bc19298aba518e8a264"
            ]
          }
        },
        "2ca8f9b4982540b7a599c44bf910b717": {
          "model_module": "@jupyter-widgets/base",
          "model_name": "LayoutModel",
          "state": {
            "_view_name": "LayoutView",
            "grid_template_rows": null,
            "right": null,
            "justify_content": null,
            "_view_module": "@jupyter-widgets/base",
            "overflow": null,
            "_model_module_version": "1.2.0",
            "_view_count": null,
            "flex_flow": null,
            "width": null,
            "min_width": null,
            "border": null,
            "align_items": null,
            "bottom": null,
            "_model_module": "@jupyter-widgets/base",
            "top": null,
            "grid_column": null,
            "overflow_y": null,
            "overflow_x": null,
            "grid_auto_flow": null,
            "grid_area": null,
            "grid_template_columns": null,
            "flex": null,
            "_model_name": "LayoutModel",
            "justify_items": null,
            "grid_row": null,
            "max_height": null,
            "align_content": null,
            "visibility": null,
            "align_self": null,
            "height": null,
            "min_height": null,
            "padding": null,
            "grid_auto_rows": null,
            "grid_gap": null,
            "max_width": null,
            "order": null,
            "_view_module_version": "1.2.0",
            "grid_template_areas": null,
            "object_position": null,
            "object_fit": null,
            "grid_auto_columns": null,
            "margin": null,
            "display": null,
            "left": null
          }
        },
        "148f41d3e9be448dbe18796e7e1b1fdf": {
          "model_module": "@jupyter-widgets/controls",
          "model_name": "FloatProgressModel",
          "state": {
            "_view_name": "ProgressView",
            "style": "IPY_MODEL_e01a9f6e7d8a4943bf091f22468e9390",
            "_dom_classes": [],
            "description": "100%",
            "_model_name": "FloatProgressModel",
            "bar_style": "success",
            "max": 178728960,
            "_view_module": "@jupyter-widgets/controls",
            "_model_module_version": "1.5.0",
            "value": 178728960,
            "_view_count": null,
            "_view_module_version": "1.5.0",
            "orientation": "horizontal",
            "min": 0,
            "description_tooltip": null,
            "_model_module": "@jupyter-widgets/controls",
            "layout": "IPY_MODEL_6ca2c6958c3741a98848d91dbee17942"
          }
        },
        "19858f7bfc4e4bc19298aba518e8a264": {
          "model_module": "@jupyter-widgets/controls",
          "model_name": "HTMLModel",
          "state": {
            "_view_name": "HTMLView",
            "style": "IPY_MODEL_4763fe97de6c464db2d65b9d6ec313c5",
            "_dom_classes": [],
            "description": "",
            "_model_name": "HTMLModel",
            "placeholder": "​",
            "_view_module": "@jupyter-widgets/controls",
            "_model_module_version": "1.5.0",
            "value": " 170M/170M [00:04&lt;00:00, 39.2MB/s]",
            "_view_count": null,
            "_view_module_version": "1.5.0",
            "description_tooltip": null,
            "_model_module": "@jupyter-widgets/controls",
            "layout": "IPY_MODEL_71fa1241829847c29f30714f911e422d"
          }
        },
        "e01a9f6e7d8a4943bf091f22468e9390": {
          "model_module": "@jupyter-widgets/controls",
          "model_name": "ProgressStyleModel",
          "state": {
            "_view_name": "StyleView",
            "_model_name": "ProgressStyleModel",
            "description_width": "initial",
            "_view_module": "@jupyter-widgets/base",
            "_model_module_version": "1.5.0",
            "_view_count": null,
            "_view_module_version": "1.2.0",
            "bar_color": null,
            "_model_module": "@jupyter-widgets/controls"
          }
        },
        "6ca2c6958c3741a98848d91dbee17942": {
          "model_module": "@jupyter-widgets/base",
          "model_name": "LayoutModel",
          "state": {
            "_view_name": "LayoutView",
            "grid_template_rows": null,
            "right": null,
            "justify_content": null,
            "_view_module": "@jupyter-widgets/base",
            "overflow": null,
            "_model_module_version": "1.2.0",
            "_view_count": null,
            "flex_flow": null,
            "width": null,
            "min_width": null,
            "border": null,
            "align_items": null,
            "bottom": null,
            "_model_module": "@jupyter-widgets/base",
            "top": null,
            "grid_column": null,
            "overflow_y": null,
            "overflow_x": null,
            "grid_auto_flow": null,
            "grid_area": null,
            "grid_template_columns": null,
            "flex": null,
            "_model_name": "LayoutModel",
            "justify_items": null,
            "grid_row": null,
            "max_height": null,
            "align_content": null,
            "visibility": null,
            "align_self": null,
            "height": null,
            "min_height": null,
            "padding": null,
            "grid_auto_rows": null,
            "grid_gap": null,
            "max_width": null,
            "order": null,
            "_view_module_version": "1.2.0",
            "grid_template_areas": null,
            "object_position": null,
            "object_fit": null,
            "grid_auto_columns": null,
            "margin": null,
            "display": null,
            "left": null
          }
        },
        "4763fe97de6c464db2d65b9d6ec313c5": {
          "model_module": "@jupyter-widgets/controls",
          "model_name": "DescriptionStyleModel",
          "state": {
            "_view_name": "StyleView",
            "_model_name": "DescriptionStyleModel",
            "description_width": "",
            "_view_module": "@jupyter-widgets/base",
            "_model_module_version": "1.5.0",
            "_view_count": null,
            "_view_module_version": "1.2.0",
            "_model_module": "@jupyter-widgets/controls"
          }
        },
        "71fa1241829847c29f30714f911e422d": {
          "model_module": "@jupyter-widgets/base",
          "model_name": "LayoutModel",
          "state": {
            "_view_name": "LayoutView",
            "grid_template_rows": null,
            "right": null,
            "justify_content": null,
            "_view_module": "@jupyter-widgets/base",
            "overflow": null,
            "_model_module_version": "1.2.0",
            "_view_count": null,
            "flex_flow": null,
            "width": null,
            "min_width": null,
            "border": null,
            "align_items": null,
            "bottom": null,
            "_model_module": "@jupyter-widgets/base",
            "top": null,
            "grid_column": null,
            "overflow_y": null,
            "overflow_x": null,
            "grid_auto_flow": null,
            "grid_area": null,
            "grid_template_columns": null,
            "flex": null,
            "_model_name": "LayoutModel",
            "justify_items": null,
            "grid_row": null,
            "max_height": null,
            "align_content": null,
            "visibility": null,
            "align_self": null,
            "height": null,
            "min_height": null,
            "padding": null,
            "grid_auto_rows": null,
            "grid_gap": null,
            "max_width": null,
            "order": null,
            "_view_module_version": "1.2.0",
            "grid_template_areas": null,
            "object_position": null,
            "object_fit": null,
            "grid_auto_columns": null,
            "margin": null,
            "display": null,
            "left": null
          }
        },
        "47560a9e84a244dead1105b0858516a8": {
          "model_module": "@jupyter-widgets/controls",
          "model_name": "HBoxModel",
          "state": {
            "_view_name": "HBoxView",
            "_dom_classes": [],
            "_model_name": "HBoxModel",
            "_view_module": "@jupyter-widgets/controls",
            "_model_module_version": "1.5.0",
            "_view_count": null,
            "_view_module_version": "1.5.0",
            "box_style": "",
            "layout": "IPY_MODEL_062f7bbb39954399b2f2684d6824d9ac",
            "_model_module": "@jupyter-widgets/controls",
            "children": [
              "IPY_MODEL_6fcd471cc27d4b4cb3f7a38e23d8623f",
              "IPY_MODEL_7fea5250cd084395b98ab6f33c43b091"
            ]
          }
        },
        "062f7bbb39954399b2f2684d6824d9ac": {
          "model_module": "@jupyter-widgets/base",
          "model_name": "LayoutModel",
          "state": {
            "_view_name": "LayoutView",
            "grid_template_rows": null,
            "right": null,
            "justify_content": null,
            "_view_module": "@jupyter-widgets/base",
            "overflow": null,
            "_model_module_version": "1.2.0",
            "_view_count": null,
            "flex_flow": null,
            "width": null,
            "min_width": null,
            "border": null,
            "align_items": null,
            "bottom": null,
            "_model_module": "@jupyter-widgets/base",
            "top": null,
            "grid_column": null,
            "overflow_y": null,
            "overflow_x": null,
            "grid_auto_flow": null,
            "grid_area": null,
            "grid_template_columns": null,
            "flex": null,
            "_model_name": "LayoutModel",
            "justify_items": null,
            "grid_row": null,
            "max_height": null,
            "align_content": null,
            "visibility": null,
            "align_self": null,
            "height": null,
            "min_height": null,
            "padding": null,
            "grid_auto_rows": null,
            "grid_gap": null,
            "max_width": null,
            "order": null,
            "_view_module_version": "1.2.0",
            "grid_template_areas": null,
            "object_position": null,
            "object_fit": null,
            "grid_auto_columns": null,
            "margin": null,
            "display": null,
            "left": null
          }
        },
        "6fcd471cc27d4b4cb3f7a38e23d8623f": {
          "model_module": "@jupyter-widgets/controls",
          "model_name": "FloatProgressModel",
          "state": {
            "_view_name": "ProgressView",
            "style": "IPY_MODEL_32f1c9db185b4f8cab9e90311c91366b",
            "_dom_classes": [],
            "description": "100%",
            "_model_name": "FloatProgressModel",
            "bar_style": "success",
            "max": 217800805,
            "_view_module": "@jupyter-widgets/controls",
            "_model_module_version": "1.5.0",
            "value": 217800805,
            "_view_count": null,
            "_view_module_version": "1.5.0",
            "orientation": "horizontal",
            "min": 0,
            "description_tooltip": null,
            "_model_module": "@jupyter-widgets/controls",
            "layout": "IPY_MODEL_1cf1ae9e01fe41dd996e7cdc8e1a9719"
          }
        },
        "7fea5250cd084395b98ab6f33c43b091": {
          "model_module": "@jupyter-widgets/controls",
          "model_name": "HTMLModel",
          "state": {
            "_view_name": "HTMLView",
            "style": "IPY_MODEL_7e7b82c3a7504486a00f20e12de55f1b",
            "_dom_classes": [],
            "description": "",
            "_model_name": "HTMLModel",
            "placeholder": "​",
            "_view_module": "@jupyter-widgets/controls",
            "_model_module_version": "1.5.0",
            "value": " 208M/208M [00:02&lt;00:00, 88.6MB/s]",
            "_view_count": null,
            "_view_module_version": "1.5.0",
            "description_tooltip": null,
            "_model_module": "@jupyter-widgets/controls",
            "layout": "IPY_MODEL_d02cc5eb442c40149006ce1be5ddf73c"
          }
        },
        "32f1c9db185b4f8cab9e90311c91366b": {
          "model_module": "@jupyter-widgets/controls",
          "model_name": "ProgressStyleModel",
          "state": {
            "_view_name": "StyleView",
            "_model_name": "ProgressStyleModel",
            "description_width": "initial",
            "_view_module": "@jupyter-widgets/base",
            "_model_module_version": "1.5.0",
            "_view_count": null,
            "_view_module_version": "1.2.0",
            "bar_color": null,
            "_model_module": "@jupyter-widgets/controls"
          }
        },
        "1cf1ae9e01fe41dd996e7cdc8e1a9719": {
          "model_module": "@jupyter-widgets/base",
          "model_name": "LayoutModel",
          "state": {
            "_view_name": "LayoutView",
            "grid_template_rows": null,
            "right": null,
            "justify_content": null,
            "_view_module": "@jupyter-widgets/base",
            "overflow": null,
            "_model_module_version": "1.2.0",
            "_view_count": null,
            "flex_flow": null,
            "width": null,
            "min_width": null,
            "border": null,
            "align_items": null,
            "bottom": null,
            "_model_module": "@jupyter-widgets/base",
            "top": null,
            "grid_column": null,
            "overflow_y": null,
            "overflow_x": null,
            "grid_auto_flow": null,
            "grid_area": null,
            "grid_template_columns": null,
            "flex": null,
            "_model_name": "LayoutModel",
            "justify_items": null,
            "grid_row": null,
            "max_height": null,
            "align_content": null,
            "visibility": null,
            "align_self": null,
            "height": null,
            "min_height": null,
            "padding": null,
            "grid_auto_rows": null,
            "grid_gap": null,
            "max_width": null,
            "order": null,
            "_view_module_version": "1.2.0",
            "grid_template_areas": null,
            "object_position": null,
            "object_fit": null,
            "grid_auto_columns": null,
            "margin": null,
            "display": null,
            "left": null
          }
        },
        "7e7b82c3a7504486a00f20e12de55f1b": {
          "model_module": "@jupyter-widgets/controls",
          "model_name": "DescriptionStyleModel",
          "state": {
            "_view_name": "StyleView",
            "_model_name": "DescriptionStyleModel",
            "description_width": "",
            "_view_module": "@jupyter-widgets/base",
            "_model_module_version": "1.5.0",
            "_view_count": null,
            "_view_module_version": "1.2.0",
            "_model_module": "@jupyter-widgets/controls"
          }
        },
        "d02cc5eb442c40149006ce1be5ddf73c": {
          "model_module": "@jupyter-widgets/base",
          "model_name": "LayoutModel",
          "state": {
            "_view_name": "LayoutView",
            "grid_template_rows": null,
            "right": null,
            "justify_content": null,
            "_view_module": "@jupyter-widgets/base",
            "overflow": null,
            "_model_module_version": "1.2.0",
            "_view_count": null,
            "flex_flow": null,
            "width": null,
            "min_width": null,
            "border": null,
            "align_items": null,
            "bottom": null,
            "_model_module": "@jupyter-widgets/base",
            "top": null,
            "grid_column": null,
            "overflow_y": null,
            "overflow_x": null,
            "grid_auto_flow": null,
            "grid_area": null,
            "grid_template_columns": null,
            "flex": null,
            "_model_name": "LayoutModel",
            "justify_items": null,
            "grid_row": null,
            "max_height": null,
            "align_content": null,
            "visibility": null,
            "align_self": null,
            "height": null,
            "min_height": null,
            "padding": null,
            "grid_auto_rows": null,
            "grid_gap": null,
            "max_width": null,
            "order": null,
            "_view_module_version": "1.2.0",
            "grid_template_areas": null,
            "object_position": null,
            "object_fit": null,
            "grid_auto_columns": null,
            "margin": null,
            "display": null,
            "left": null
          }
        }
      }
    }
  },
  "cells": [
    {
      "cell_type": "markdown",
      "metadata": {
        "id": "view-in-github",
        "colab_type": "text"
      },
      "source": [
        "<a href=\"https://colab.research.google.com/github/kaleem500bc/ImageSegmentation/blob/master/Sigmentation.ipynb\" target=\"_parent\"><img src=\"https://colab.research.google.com/assets/colab-badge.svg\" alt=\"Open In Colab\"/></a>"
      ]
    },
    {
      "cell_type": "code",
      "metadata": {
        "id": "jKJeuz3_659c",
        "colab_type": "code",
        "colab": {}
      },
      "source": [
        "import torch\n",
        "from torch import nn\n",
        "from torch.nn import functional as F\n",
        "import torchvision\n",
        "from torchvision import transforms\n",
        "from matplotlib import pyplot as plt\n",
        "import numpy as np\n",
        "from pycocotools.coco import COCO\n",
        "from skimage import io\n",
        "from matplotlib import patches\n",
        "import threading\n",
        "import queue\n",
        "from PIL import Image\n",
        "import urllib\n",
        "import requests\n",
        "import os\n",
        "import copy\n",
        "import random"
      ],
      "execution_count": 1,
      "outputs": []
    },
    {
      "cell_type": "code",
      "metadata": {
        "id": "BvUssKFx9DNt",
        "colab_type": "code",
        "colab": {
          "base_uri": "https://localhost:8080/",
          "height": 323
        },
        "outputId": "8948da5f-241a-4fa9-8a79-ea8f636f9b7b"
      },
      "source": [
        "#download annotation file\n",
        "!wget -O annotation.zip http://images.cocodataset.org/annotations/annotations_trainval2014.zip\n",
        "!unzip annotation.zip"
      ],
      "execution_count": 2,
      "outputs": [
        {
          "output_type": "stream",
          "text": [
            "--2020-09-14 11:47:49--  http://images.cocodataset.org/annotations/annotations_trainval2014.zip\n",
            "Resolving images.cocodataset.org (images.cocodataset.org)... 52.216.138.99\n",
            "Connecting to images.cocodataset.org (images.cocodataset.org)|52.216.138.99|:80... connected.\n",
            "HTTP request sent, awaiting response... 200 OK\n",
            "Length: 252872794 (241M) [application/zip]\n",
            "Saving to: ‘annotation.zip’\n",
            "\n",
            "annotation.zip      100%[===================>] 241.16M  46.1MB/s    in 5.7s    \n",
            "\n",
            "2020-09-14 11:47:55 (42.7 MB/s) - ‘annotation.zip’ saved [252872794/252872794]\n",
            "\n",
            "Archive:  annotation.zip\n",
            "  inflating: annotations/instances_train2014.json  \n",
            "  inflating: annotations/instances_val2014.json  \n",
            "  inflating: annotations/person_keypoints_train2014.json  \n",
            "  inflating: annotations/person_keypoints_val2014.json  \n",
            "  inflating: annotations/captions_train2014.json  \n",
            "  inflating: annotations/captions_val2014.json  \n"
          ],
          "name": "stdout"
        }
      ]
    },
    {
      "cell_type": "code",
      "metadata": {
        "id": "FFqRIAN696cp",
        "colab_type": "code",
        "colab": {
          "base_uri": "https://localhost:8080/",
          "height": 85
        },
        "outputId": "e5e12fff-febc-46c8-feab-2d377be0f4e0"
      },
      "source": [
        "annfileInstances = \"/content/annotations/instances_train2014.json\"\n",
        "coco = COCO(annfileInstances)"
      ],
      "execution_count": 3,
      "outputs": [
        {
          "output_type": "stream",
          "text": [
            "loading annotations into memory...\n",
            "Done (t=11.08s)\n",
            "creating index...\n",
            "index created!\n"
          ],
          "name": "stdout"
        }
      ]
    },
    {
      "cell_type": "code",
      "metadata": {
        "id": "-0rG3eNC-iNa",
        "colab_type": "code",
        "colab": {}
      },
      "source": [
        "#Instances that should be segmented, can be extended/modify , for instance cats = ['cat', 'dog', 'person']\n",
        "cats = ['person', 'car'] \n",
        "\n",
        "imgIds = []\n",
        "\n",
        "for catNm in cats:\n",
        "  imgIds.append(coco.getImgIds(catIds=coco.getCatIds(catNms = catNm)))\n",
        "\n",
        "imgIds.append(coco.getImgIds(catIds=coco.getCatIds(catNms = cats)))\n",
        "\n",
        "imgIds = [item for l in imgIds for item in l]\n",
        "\n",
        "#shuffle images ids\n",
        "random.shuffle(imgIds)\n",
        "\n",
        "#number of training images is 1000 \n",
        "trainingImgIds = imgIds[:1000]"
      ],
      "execution_count": 4,
      "outputs": []
    },
    {
      "cell_type": "code",
      "metadata": {
        "id": "-hfVL4yQVs3H",
        "colab_type": "code",
        "colab": {}
      },
      "source": [
        "#Download dataset on separate thread as the it takes long time, using producer-consumer pattern\n",
        "\n",
        "downloadQueue = queue.Queue()\n",
        "imgIdandMask = 0\n",
        "stop = True\n",
        "\n",
        "\n",
        "class download(threading.Thread):\n",
        "\n",
        "  def __init__(self,imgIds):\n",
        "    super(download,self).__init__()\n",
        "    self.imgIds = imgIds\n",
        "    self.setName(\"producer\")\n",
        "  \n",
        "  def run(self):\n",
        "    for id in self.imgIds:\n",
        "      imgData = coco.loadImgs(id)[0]\n",
        "\n",
        "      with requests.get(imgData['coco_url'],stream=True).raw as imgDownload:\n",
        "        img = Image.open(imgDownload)\n",
        "        item = (img, id)\n",
        "        downloadQueue.put(item)\n",
        "    stop = False\n",
        "    \n",
        "\n",
        "\n",
        "      \n",
        "  \n",
        "class datasetConsumer(threading.Thread):\n",
        "\n",
        "  def __init__(self):\n",
        "    super(datasetConsumer,self).__init__()\n",
        "    self.setName(\"consumer\")\n",
        "\n",
        "  def run(self):\n",
        "    global imgId, stop\n",
        "    if not os.path.exists('/content/cocoSubset'):\n",
        "      os.mkdir('/content/cocoSubset')\n",
        "    while stop:\n",
        "      img,id = downloadQueue.get()\n",
        "      img.save((\"/content/cocoSubset/{}.jpg\").format(id))\n",
        "\n",
        "\n",
        "\n",
        "producer = download(imgIdsPart)\n",
        "consumer = datasetConsumer()\n",
        "\n",
        "producer.start()\n",
        "consumer.start()"
      ],
      "execution_count": 5,
      "outputs": []
    },
    {
      "cell_type": "code",
      "metadata": {
        "id": "7lXtboHuHUA4",
        "colab_type": "code",
        "colab": {
          "base_uri": "https://localhost:8080/",
          "height": 119
        },
        "outputId": "218f5f5f-30f7-44c8-d385-e2336e501990"
      },
      "source": [
        "#check whether the required threads named \"producer\" and \"consumer\" are running\n",
        "for thread in threading.enumerate():\n",
        "  print(thread.name)"
      ],
      "execution_count": 6,
      "outputs": [
        {
          "output_type": "stream",
          "text": [
            "MainThread\n",
            "Thread-2\n",
            "Thread-3\n",
            "Thread-1\n",
            "producer\n",
            "consumer\n"
          ],
          "name": "stdout"
        }
      ]
    },
    {
      "cell_type": "code",
      "metadata": {
        "id": "yy9hZGFZiyn5",
        "colab_type": "code",
        "colab": {}
      },
      "source": [
        "#custom dataset class\n",
        "class dataset(torch.utils.data.Dataset):\n",
        "  \n",
        "  def __init__(self, root, imgsPath, cats, transform=None):\n",
        "    self.root = root\n",
        "    self.imgsList = imgsPath\n",
        "    self.catsIds = coco.getCatIds(cats)\n",
        "    self.cats = cats\n",
        "    self.transform = transform\n",
        "\n",
        "  def __getitem__(self,imgIdx):\n",
        "    id = self.imgsList[imgIdx]\n",
        "    img = Image.open(os.path.join(self.root,\"{}.jpg\".format(id))).convert('RGB')\n",
        "    annId = coco.getAnnIds(id,self.catsIds)\n",
        "    anns = coco.loadAnns(annId)\n",
        "    mask = 0\n",
        "    for i_ann in anns:\n",
        "\n",
        "      testMask = coco.annToMask(i_ann)\n",
        "      if i_ann['category_id'] == 3:\n",
        "        testMask *= 2\n",
        "      if i_ann['category_id'] == 1:\n",
        "        testMask *= 1\n",
        "\n",
        "      mask += testMask\n",
        "      mask = np.where(mask > 2, 2, mask)\n",
        "\n",
        "    if transform is not None:\n",
        "      img = self.transform(img)\n",
        "\n",
        "    return img, mask\n",
        "\n",
        "  def __len__(self):\n",
        "    return len(self.imgsList)\n"
      ],
      "execution_count": 35,
      "outputs": []
    },
    {
      "cell_type": "code",
      "metadata": {
        "id": "CgLy7jp6yqIo",
        "colab_type": "code",
        "colab": {}
      },
      "source": [
        "root = \"/content/cocoSubset\"\n",
        "transform = transforms.Compose([\n",
        "                                # transforms.Resize((224,224)),\n",
        "                                transforms.ToTensor(),\n",
        "                                transforms.Normalize([0.485, 0.456, 0.406], [0.229, 0.224, 0.225])                                \n",
        "])\n",
        "\n",
        "\n",
        "cocoDataset = dataset(root,trainingImgIds, cats, transform)\n",
        "BATCHSIZE = 32\n",
        "cocoDatasetLoader = torch.utils.data.DataLoader(cocoDataset, BATCHSIZE)\n"
      ],
      "execution_count": 36,
      "outputs": []
    },
    {
      "cell_type": "code",
      "metadata": {
        "id": "TP-jPoUHyBXW",
        "colab_type": "code",
        "colab": {
          "base_uri": "https://localhost:8080/",
          "height": 149,
          "referenced_widgets": [
            "af1a79f093b04a67bed0400554302277",
            "2ca8f9b4982540b7a599c44bf910b717",
            "148f41d3e9be448dbe18796e7e1b1fdf",
            "19858f7bfc4e4bc19298aba518e8a264",
            "e01a9f6e7d8a4943bf091f22468e9390",
            "6ca2c6958c3741a98848d91dbee17942",
            "4763fe97de6c464db2d65b9d6ec313c5",
            "71fa1241829847c29f30714f911e422d",
            "47560a9e84a244dead1105b0858516a8",
            "062f7bbb39954399b2f2684d6824d9ac",
            "6fcd471cc27d4b4cb3f7a38e23d8623f",
            "7fea5250cd084395b98ab6f33c43b091",
            "32f1c9db185b4f8cab9e90311c91366b",
            "1cf1ae9e01fe41dd996e7cdc8e1a9719",
            "7e7b82c3a7504486a00f20e12de55f1b",
            "d02cc5eb442c40149006ce1be5ddf73c"
          ]
        },
        "outputId": "b8d224ad-493e-4f1a-bb09-c2a07b3ac93f"
      },
      "source": [
        "#use fcn_resnet101 as the base model\n",
        "fcn_resnet101 = torchvision.models.segmentation.fcn_resnet101(pretrained=True)\n",
        "for layer in fcn_resnet101.parameters():\n",
        "  layer.requires_grad = False\n"
      ],
      "execution_count": 41,
      "outputs": [
        {
          "output_type": "stream",
          "text": [
            "Downloading: \"https://download.pytorch.org/models/resnet101-5d3b4d8f.pth\" to /root/.cache/torch/hub/checkpoints/resnet101-5d3b4d8f.pth\n"
          ],
          "name": "stderr"
        },
        {
          "output_type": "display_data",
          "data": {
            "application/vnd.jupyter.widget-view+json": {
              "model_id": "af1a79f093b04a67bed0400554302277",
              "version_minor": 0,
              "version_major": 2
            },
            "text/plain": [
              "HBox(children=(FloatProgress(value=0.0, max=178728960.0), HTML(value='')))"
            ]
          },
          "metadata": {
            "tags": []
          }
        },
        {
          "output_type": "stream",
          "text": [
            "\n"
          ],
          "name": "stdout"
        },
        {
          "output_type": "stream",
          "text": [
            "Downloading: \"https://download.pytorch.org/models/fcn_resnet101_coco-7ecb50ca.pth\" to /root/.cache/torch/hub/checkpoints/fcn_resnet101_coco-7ecb50ca.pth\n"
          ],
          "name": "stderr"
        },
        {
          "output_type": "display_data",
          "data": {
            "application/vnd.jupyter.widget-view+json": {
              "model_id": "47560a9e84a244dead1105b0858516a8",
              "version_minor": 0,
              "version_major": 2
            },
            "text/plain": [
              "HBox(children=(FloatProgress(value=0.0, max=217800805.0), HTML(value='')))"
            ]
          },
          "metadata": {
            "tags": []
          }
        },
        {
          "output_type": "stream",
          "text": [
            "\n"
          ],
          "name": "stdout"
        }
      ]
    },
    {
      "cell_type": "code",
      "metadata": {
        "id": "xhwzU6UY6Vl8",
        "colab_type": "code",
        "colab": {}
      },
      "source": [
        "class modifiedfcn_resnet101(nn.Module):\n",
        "  def __init__(self, fcn_resnet101, numClasses):\n",
        "    super().__init__()\n",
        "    self.fcn_resnet101 = fcn_resnet101\n",
        "    in_channels = fcn_resnet101.classifier[0].in_channels\n",
        "    classifier = nn.Sequential(\n",
        "                nn.Conv2d(in_channels,512,kernel_size=(3,3)),\n",
        "                nn.ReLU(),\n",
        "                nn.Conv2d(512, numClasses,kernel_size=(1,1))\n",
        "            )\n",
        "    self.fcn_resnet101.classifier = classifier\n",
        "\n",
        "  def forward(self, x):\n",
        "    x= self.fcn_resnet101(x)\n",
        "    return x['out']\n",
        "\n",
        "#number of classes that should be segmented\n",
        "numCls = len(cats)+1 # +1 is the background\n",
        "model = modifiedfcn_resnet101(fcn_resnet101, numCls)\n"
      ],
      "execution_count": 42,
      "outputs": []
    },
    {
      "cell_type": "code",
      "metadata": {
        "id": "7pbcM4eJ6R8Q",
        "colab_type": "code",
        "colab": {}
      },
      "source": [
        "optim = torch.optim.Adam(model.parameters())\n",
        "criterion = nn.CrossEntropyLoss()"
      ],
      "execution_count": null,
      "outputs": []
    },
    {
      "cell_type": "code",
      "metadata": {
        "id": "Uhe7cqZA5_7o",
        "colab_type": "code",
        "colab": {}
      },
      "source": [
        "model.to(\"cuda\")\n",
        "\n",
        "def training(epochs, model, optimizer, criterion):\n",
        "\n",
        "  for e in range(epochs):\n",
        "    print(\"Epoch: \"+str(e+1))\n",
        "    totalLoss = []\n",
        "    eloss = 0\n",
        "    for img, label in cocoDataset:\n",
        "      \n",
        "      #input to the network is minibatch x channel(s) x W x H\n",
        "      img = img.unsqueeze(0)\n",
        "\n",
        "      #target should be minibatch x W x H\n",
        "      label = torch.tensor(label, dtype=torch.long)\n",
        "      label = label.unsqueeze(0)\n",
        "      \n",
        "      img, label = img.to(\"cuda\"), label.to(\"cuda\")\n",
        "\n",
        "      #output of the network will be minibatch x classes x W x H: here clasess are background and person\n",
        "      out = model(img)\n",
        "\n",
        "      optimizer.zero_grad()\n",
        "\n",
        "      loss = criterion(out,label)\n",
        "\n",
        "      loss.backward()\n",
        "\n",
        "      optimizer.step()\n",
        "\n",
        "      eloss += loss.item()\n",
        "\n",
        "    \n",
        "    print('loss per epoch '+str(eloss))\n",
        "    totalLoss.append(eloss)\n",
        "  \n",
        "  return totalLoss\n",
        "\n",
        "  "
      ],
      "execution_count": 63,
      "outputs": []
    },
    {
      "cell_type": "code",
      "metadata": {
        "id": "mjKnFTzJ58oe",
        "colab_type": "code",
        "colab": {
          "base_uri": "https://localhost:8080/",
          "height": 187
        },
        "outputId": "a0732c4d-241a-4f83-c48d-6c3bec1f5c7c"
      },
      "source": [
        "epochs = 5\n",
        "epochList = list(range(5))\n",
        "lossArray = training(epochs, model, optim, criterion)"
      ],
      "execution_count": 64,
      "outputs": [
        {
          "output_type": "stream",
          "text": [
            "Epoch: 1\n",
            "loss per epoch 401.83825257467106\n",
            "Epoch: 2\n",
            "loss per epoch 164.24273037002422\n",
            "Epoch: 3\n",
            "loss per epoch 199.60388697078452\n",
            "Epoch: 4\n",
            "loss per epoch 184.6651445776224\n",
            "Epoch: 5\n",
            "loss per epoch 167.73515347763896\n"
          ],
          "name": "stdout"
        }
      ]
    },
    {
      "cell_type": "code",
      "metadata": {
        "id": "Dop2MtmH30wX",
        "colab_type": "code",
        "colab": {}
      },
      "source": [
        "plt.plot(epochList, lossArray)"
      ],
      "execution_count": null,
      "outputs": []
    },
    {
      "cell_type": "code",
      "metadata": {
        "id": "_13Hdx2QMgqm",
        "colab_type": "code",
        "colab": {
          "base_uri": "https://localhost:8080/",
          "height": 34
        },
        "outputId": "fd82e6a8-89ac-4081-fc05-d82542c2beca"
      },
      "source": [
        "#Test Image\n",
        "imgUrl = 'https://www.autobuzzer.net/wp-content/uploads/2013/03/tips-to-bby-a-new-car.jpg'\n",
        "testImg = requests.get(imgUrl, stream=True).raw\n",
        "testImg = Image.open(testImg)\n",
        "inpt = transform(testImg).unsqueeze(0).to(\"cuda\")\n",
        "print(inpt.shape)"
      ],
      "execution_count": 71,
      "outputs": [
        {
          "output_type": "stream",
          "text": [
            "torch.Size([1, 3, 390, 600])\n"
          ],
          "name": "stdout"
        }
      ]
    },
    {
      "cell_type": "code",
      "metadata": {
        "id": "-b5-GhbLMTXW",
        "colab_type": "code",
        "colab": {}
      },
      "source": [
        "model.eval()\n",
        "out1 = model(inpt)\n",
        "out = out1.squeeze(0)\n",
        "out = out.argmax(0)"
      ],
      "execution_count": 72,
      "outputs": []
    },
    {
      "cell_type": "code",
      "metadata": {
        "id": "VUZ5LYLUNw-R",
        "colab_type": "code",
        "colab": {
          "base_uri": "https://localhost:8080/",
          "height": 286
        },
        "outputId": "81ea68bc-b49f-4980-fcff-06bb3cc994ea"
      },
      "source": [
        "plt.imshow(out.to(\"cpu\").detach().numpy())"
      ],
      "execution_count": 73,
      "outputs": [
        {
          "output_type": "execute_result",
          "data": {
            "text/plain": [
              "<matplotlib.image.AxesImage at 0x7f7056fee400>"
            ]
          },
          "metadata": {
            "tags": []
          },
          "execution_count": 73
        },
        {
          "output_type": "display_data",
          "data": {
            "image/png": "[encoded data removed]",
            "text/plain": [
              "<Figure size 432x288 with 1 Axes>"
            ]
          },
          "metadata": {
            "tags": [],
            "needs_background": "light"
          }
        }
      ]
    }
  ]
}